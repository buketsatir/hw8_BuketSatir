{
  "nbformat": 4,
  "nbformat_minor": 0,
  "metadata": {
    "colab": {
      "provenance": []
    },
    "kernelspec": {
      "name": "python3",
      "display_name": "Python 3"
    },
    "language_info": {
      "name": "python"
    }
  },
  "cells": [
    {
      "cell_type": "markdown",
      "source": [
        "# **Can you recommend  jokes that users may like?**"
      ],
      "metadata": {
        "id": "Nam4Sp2YrgrT"
      }
    },
    {
      "cell_type": "markdown",
      "source": [
        "# **1.1 Initialize**"
      ],
      "metadata": {
        "id": "vSR8EtYcryIW"
      }
    },
    {
      "cell_type": "code",
      "source": [
        "!pip install scikit-surprise"
      ],
      "metadata": {
        "colab": {
          "base_uri": "https://localhost:8080/"
        },
        "id": "AIamXXAqYHgE",
        "outputId": "759c491d-dac6-49ef-97c7-559608d0bc54"
      },
      "execution_count": 23,
      "outputs": [
        {
          "output_type": "stream",
          "name": "stdout",
          "text": [
            "Collecting scikit-surprise\n",
            "  Downloading scikit_surprise-1.1.4.tar.gz (154 kB)\n",
            "\u001b[2K     \u001b[90m━━━━━━━━━━━━━━━━━━━━━━━━━━━━━━━━━━━━━━━━\u001b[0m \u001b[32m154.4/154.4 kB\u001b[0m \u001b[31m3.5 MB/s\u001b[0m eta \u001b[36m0:00:00\u001b[0m\n",
            "\u001b[?25h  Installing build dependencies ... \u001b[?25l\u001b[?25hdone\n",
            "  Getting requirements to build wheel ... \u001b[?25l\u001b[?25hdone\n",
            "  Preparing metadata (pyproject.toml) ... \u001b[?25l\u001b[?25hdone\n",
            "Requirement already satisfied: joblib>=1.2.0 in /usr/local/lib/python3.10/dist-packages (from scikit-surprise) (1.4.2)\n",
            "Requirement already satisfied: numpy>=1.19.5 in /usr/local/lib/python3.10/dist-packages (from scikit-surprise) (1.26.4)\n",
            "Requirement already satisfied: scipy>=1.6.0 in /usr/local/lib/python3.10/dist-packages (from scikit-surprise) (1.13.1)\n",
            "Building wheels for collected packages: scikit-surprise\n",
            "  Building wheel for scikit-surprise (pyproject.toml) ... \u001b[?25l\u001b[?25hdone\n",
            "  Created wheel for scikit-surprise: filename=scikit_surprise-1.1.4-cp310-cp310-linux_x86_64.whl size=2357293 sha256=d38acea4bd30defd7f7911c6fc7b0a6193d90fd7b0d2b89b043ddac5b3a50d7a\n",
            "  Stored in directory: /root/.cache/pip/wheels/4b/3f/df/6acbf0a40397d9bf3ff97f582cc22fb9ce66adde75bc71fd54\n",
            "Successfully built scikit-surprise\n",
            "Installing collected packages: scikit-surprise\n",
            "Successfully installed scikit-surprise-1.1.4\n"
          ]
        }
      ]
    },
    {
      "cell_type": "code",
      "execution_count": 43,
      "metadata": {
        "id": "e5aHmTNErWal"
      },
      "outputs": [],
      "source": [
        "import pandas as pd\n",
        "import numpy as np\n",
        "import matplotlib.pyplot as plt\n",
        "import seaborn as sns\n",
        "from sklearn.feature_extraction.text import TfidfVectorizer\n",
        "from sklearn.metrics.pairwise import cosine_similarity\n",
        "from surprise import Dataset, Reader, SVD, accuracy\n",
        "from surprise.model_selection import train_test_split, cross_validate,GridSearchCV\n"
      ]
    },
    {
      "cell_type": "markdown",
      "source": [
        "# **1.2 Read the Data**"
      ],
      "metadata": {
        "id": "ikJd_Dszr4CX"
      }
    },
    {
      "cell_type": "markdown",
      "source": [
        "Movie metadata"
      ],
      "metadata": {
        "id": "rcvMxUpJOX6V"
      }
    },
    {
      "cell_type": "code",
      "source": [
        "df = pd.read_csv('data.csv')"
      ],
      "metadata": {
        "id": "WwVAGfNgs0Cz"
      },
      "execution_count": 2,
      "outputs": []
    },
    {
      "cell_type": "markdown",
      "source": [
        "User ratings for each film."
      ],
      "metadata": {
        "id": "4iTM_iMOOT2c"
      }
    },
    {
      "cell_type": "code",
      "source": [
        "dfr1 = pd.read_csv('UserRatings1.csv')"
      ],
      "metadata": {
        "id": "7S5Xw9cUtmCN"
      },
      "execution_count": 3,
      "outputs": []
    },
    {
      "cell_type": "code",
      "source": [
        "dfr2 = pd.read_csv('UserRatings2.csv')"
      ],
      "metadata": {
        "id": "2LOR4mInttqA",
        "colab": {
          "base_uri": "https://localhost:8080/"
        },
        "outputId": "3a5dc8e1-54cf-43d4-99d3-600ce679e58b"
      },
      "execution_count": 4,
      "outputs": [
        {
          "output_type": "stream",
          "name": "stderr",
          "text": [
            "<ipython-input-4-589955785acd>:1: DtypeWarning: Columns (18477) have mixed types. Specify dtype option on import or set low_memory=False.\n",
            "  dfr2 = pd.read_csv('UserRatings2.csv')\n"
          ]
        }
      ]
    },
    {
      "cell_type": "markdown",
      "source": [
        "See first few rows in the data."
      ],
      "metadata": {
        "id": "eokqpcJYtMWN"
      }
    },
    {
      "cell_type": "markdown",
      "source": [
        "# **1.3 Prepare the Data**"
      ],
      "metadata": {
        "id": "uZxfukQ3uTni"
      }
    },
    {
      "cell_type": "code",
      "source": [
        "df.head()"
      ],
      "metadata": {
        "colab": {
          "base_uri": "https://localhost:8080/",
          "height": 206
        },
        "id": "bs2qPyKltIQ6",
        "outputId": "9b13a10b-cf33-49a7-8123-04fe1e28bd00"
      },
      "execution_count": 5,
      "outputs": [
        {
          "output_type": "execute_result",
          "data": {
            "text/plain": [
              "   JokeId                                           JokeText\n",
              "0       0  A man visits the doctor. The doctor says \"I ha...\n",
              "1       1  This couple had an excellent relationship goin...\n",
              "2       2  Q. What's 200 feet long and has 4 teeth? \\n\\nA...\n",
              "3       3  Q. What's the difference between a man and a t...\n",
              "4       4  Q.\\tWhat's O. J. Simpson's Internet address? \\..."
            ],
            "text/html": [
              "\n",
              "  <div id=\"df-1396d578-4bd4-4231-b177-f6d2600a296a\" class=\"colab-df-container\">\n",
              "    <div>\n",
              "<style scoped>\n",
              "    .dataframe tbody tr th:only-of-type {\n",
              "        vertical-align: middle;\n",
              "    }\n",
              "\n",
              "    .dataframe tbody tr th {\n",
              "        vertical-align: top;\n",
              "    }\n",
              "\n",
              "    .dataframe thead th {\n",
              "        text-align: right;\n",
              "    }\n",
              "</style>\n",
              "<table border=\"1\" class=\"dataframe\">\n",
              "  <thead>\n",
              "    <tr style=\"text-align: right;\">\n",
              "      <th></th>\n",
              "      <th>JokeId</th>\n",
              "      <th>JokeText</th>\n",
              "    </tr>\n",
              "  </thead>\n",
              "  <tbody>\n",
              "    <tr>\n",
              "      <th>0</th>\n",
              "      <td>0</td>\n",
              "      <td>A man visits the doctor. The doctor says \"I ha...</td>\n",
              "    </tr>\n",
              "    <tr>\n",
              "      <th>1</th>\n",
              "      <td>1</td>\n",
              "      <td>This couple had an excellent relationship goin...</td>\n",
              "    </tr>\n",
              "    <tr>\n",
              "      <th>2</th>\n",
              "      <td>2</td>\n",
              "      <td>Q. What's 200 feet long and has 4 teeth? \\n\\nA...</td>\n",
              "    </tr>\n",
              "    <tr>\n",
              "      <th>3</th>\n",
              "      <td>3</td>\n",
              "      <td>Q. What's the difference between a man and a t...</td>\n",
              "    </tr>\n",
              "    <tr>\n",
              "      <th>4</th>\n",
              "      <td>4</td>\n",
              "      <td>Q.\\tWhat's O. J. Simpson's Internet address? \\...</td>\n",
              "    </tr>\n",
              "  </tbody>\n",
              "</table>\n",
              "</div>\n",
              "    <div class=\"colab-df-buttons\">\n",
              "\n",
              "  <div class=\"colab-df-container\">\n",
              "    <button class=\"colab-df-convert\" onclick=\"convertToInteractive('df-1396d578-4bd4-4231-b177-f6d2600a296a')\"\n",
              "            title=\"Convert this dataframe to an interactive table.\"\n",
              "            style=\"display:none;\">\n",
              "\n",
              "  <svg xmlns=\"http://www.w3.org/2000/svg\" height=\"24px\" viewBox=\"0 -960 960 960\">\n",
              "    <path d=\"M120-120v-720h720v720H120Zm60-500h600v-160H180v160Zm220 220h160v-160H400v160Zm0 220h160v-160H400v160ZM180-400h160v-160H180v160Zm440 0h160v-160H620v160ZM180-180h160v-160H180v160Zm440 0h160v-160H620v160Z\"/>\n",
              "  </svg>\n",
              "    </button>\n",
              "\n",
              "  <style>\n",
              "    .colab-df-container {\n",
              "      display:flex;\n",
              "      gap: 12px;\n",
              "    }\n",
              "\n",
              "    .colab-df-convert {\n",
              "      background-color: #E8F0FE;\n",
              "      border: none;\n",
              "      border-radius: 50%;\n",
              "      cursor: pointer;\n",
              "      display: none;\n",
              "      fill: #1967D2;\n",
              "      height: 32px;\n",
              "      padding: 0 0 0 0;\n",
              "      width: 32px;\n",
              "    }\n",
              "\n",
              "    .colab-df-convert:hover {\n",
              "      background-color: #E2EBFA;\n",
              "      box-shadow: 0px 1px 2px rgba(60, 64, 67, 0.3), 0px 1px 3px 1px rgba(60, 64, 67, 0.15);\n",
              "      fill: #174EA6;\n",
              "    }\n",
              "\n",
              "    .colab-df-buttons div {\n",
              "      margin-bottom: 4px;\n",
              "    }\n",
              "\n",
              "    [theme=dark] .colab-df-convert {\n",
              "      background-color: #3B4455;\n",
              "      fill: #D2E3FC;\n",
              "    }\n",
              "\n",
              "    [theme=dark] .colab-df-convert:hover {\n",
              "      background-color: #434B5C;\n",
              "      box-shadow: 0px 1px 3px 1px rgba(0, 0, 0, 0.15);\n",
              "      filter: drop-shadow(0px 1px 2px rgba(0, 0, 0, 0.3));\n",
              "      fill: #FFFFFF;\n",
              "    }\n",
              "  </style>\n",
              "\n",
              "    <script>\n",
              "      const buttonEl =\n",
              "        document.querySelector('#df-1396d578-4bd4-4231-b177-f6d2600a296a button.colab-df-convert');\n",
              "      buttonEl.style.display =\n",
              "        google.colab.kernel.accessAllowed ? 'block' : 'none';\n",
              "\n",
              "      async function convertToInteractive(key) {\n",
              "        const element = document.querySelector('#df-1396d578-4bd4-4231-b177-f6d2600a296a');\n",
              "        const dataTable =\n",
              "          await google.colab.kernel.invokeFunction('convertToInteractive',\n",
              "                                                    [key], {});\n",
              "        if (!dataTable) return;\n",
              "\n",
              "        const docLinkHtml = 'Like what you see? Visit the ' +\n",
              "          '<a target=\"_blank\" href=https://colab.research.google.com/notebooks/data_table.ipynb>data table notebook</a>'\n",
              "          + ' to learn more about interactive tables.';\n",
              "        element.innerHTML = '';\n",
              "        dataTable['output_type'] = 'display_data';\n",
              "        await google.colab.output.renderOutput(dataTable, element);\n",
              "        const docLink = document.createElement('div');\n",
              "        docLink.innerHTML = docLinkHtml;\n",
              "        element.appendChild(docLink);\n",
              "      }\n",
              "    </script>\n",
              "  </div>\n",
              "\n",
              "\n",
              "<div id=\"df-22d380a3-b8c0-4816-9102-aa11d6e20f63\">\n",
              "  <button class=\"colab-df-quickchart\" onclick=\"quickchart('df-22d380a3-b8c0-4816-9102-aa11d6e20f63')\"\n",
              "            title=\"Suggest charts\"\n",
              "            style=\"display:none;\">\n",
              "\n",
              "<svg xmlns=\"http://www.w3.org/2000/svg\" height=\"24px\"viewBox=\"0 0 24 24\"\n",
              "     width=\"24px\">\n",
              "    <g>\n",
              "        <path d=\"M19 3H5c-1.1 0-2 .9-2 2v14c0 1.1.9 2 2 2h14c1.1 0 2-.9 2-2V5c0-1.1-.9-2-2-2zM9 17H7v-7h2v7zm4 0h-2V7h2v10zm4 0h-2v-4h2v4z\"/>\n",
              "    </g>\n",
              "</svg>\n",
              "  </button>\n",
              "\n",
              "<style>\n",
              "  .colab-df-quickchart {\n",
              "      --bg-color: #E8F0FE;\n",
              "      --fill-color: #1967D2;\n",
              "      --hover-bg-color: #E2EBFA;\n",
              "      --hover-fill-color: #174EA6;\n",
              "      --disabled-fill-color: #AAA;\n",
              "      --disabled-bg-color: #DDD;\n",
              "  }\n",
              "\n",
              "  [theme=dark] .colab-df-quickchart {\n",
              "      --bg-color: #3B4455;\n",
              "      --fill-color: #D2E3FC;\n",
              "      --hover-bg-color: #434B5C;\n",
              "      --hover-fill-color: #FFFFFF;\n",
              "      --disabled-bg-color: #3B4455;\n",
              "      --disabled-fill-color: #666;\n",
              "  }\n",
              "\n",
              "  .colab-df-quickchart {\n",
              "    background-color: var(--bg-color);\n",
              "    border: none;\n",
              "    border-radius: 50%;\n",
              "    cursor: pointer;\n",
              "    display: none;\n",
              "    fill: var(--fill-color);\n",
              "    height: 32px;\n",
              "    padding: 0;\n",
              "    width: 32px;\n",
              "  }\n",
              "\n",
              "  .colab-df-quickchart:hover {\n",
              "    background-color: var(--hover-bg-color);\n",
              "    box-shadow: 0 1px 2px rgba(60, 64, 67, 0.3), 0 1px 3px 1px rgba(60, 64, 67, 0.15);\n",
              "    fill: var(--button-hover-fill-color);\n",
              "  }\n",
              "\n",
              "  .colab-df-quickchart-complete:disabled,\n",
              "  .colab-df-quickchart-complete:disabled:hover {\n",
              "    background-color: var(--disabled-bg-color);\n",
              "    fill: var(--disabled-fill-color);\n",
              "    box-shadow: none;\n",
              "  }\n",
              "\n",
              "  .colab-df-spinner {\n",
              "    border: 2px solid var(--fill-color);\n",
              "    border-color: transparent;\n",
              "    border-bottom-color: var(--fill-color);\n",
              "    animation:\n",
              "      spin 1s steps(1) infinite;\n",
              "  }\n",
              "\n",
              "  @keyframes spin {\n",
              "    0% {\n",
              "      border-color: transparent;\n",
              "      border-bottom-color: var(--fill-color);\n",
              "      border-left-color: var(--fill-color);\n",
              "    }\n",
              "    20% {\n",
              "      border-color: transparent;\n",
              "      border-left-color: var(--fill-color);\n",
              "      border-top-color: var(--fill-color);\n",
              "    }\n",
              "    30% {\n",
              "      border-color: transparent;\n",
              "      border-left-color: var(--fill-color);\n",
              "      border-top-color: var(--fill-color);\n",
              "      border-right-color: var(--fill-color);\n",
              "    }\n",
              "    40% {\n",
              "      border-color: transparent;\n",
              "      border-right-color: var(--fill-color);\n",
              "      border-top-color: var(--fill-color);\n",
              "    }\n",
              "    60% {\n",
              "      border-color: transparent;\n",
              "      border-right-color: var(--fill-color);\n",
              "    }\n",
              "    80% {\n",
              "      border-color: transparent;\n",
              "      border-right-color: var(--fill-color);\n",
              "      border-bottom-color: var(--fill-color);\n",
              "    }\n",
              "    90% {\n",
              "      border-color: transparent;\n",
              "      border-bottom-color: var(--fill-color);\n",
              "    }\n",
              "  }\n",
              "</style>\n",
              "\n",
              "  <script>\n",
              "    async function quickchart(key) {\n",
              "      const quickchartButtonEl =\n",
              "        document.querySelector('#' + key + ' button');\n",
              "      quickchartButtonEl.disabled = true;  // To prevent multiple clicks.\n",
              "      quickchartButtonEl.classList.add('colab-df-spinner');\n",
              "      try {\n",
              "        const charts = await google.colab.kernel.invokeFunction(\n",
              "            'suggestCharts', [key], {});\n",
              "      } catch (error) {\n",
              "        console.error('Error during call to suggestCharts:', error);\n",
              "      }\n",
              "      quickchartButtonEl.classList.remove('colab-df-spinner');\n",
              "      quickchartButtonEl.classList.add('colab-df-quickchart-complete');\n",
              "    }\n",
              "    (() => {\n",
              "      let quickchartButtonEl =\n",
              "        document.querySelector('#df-22d380a3-b8c0-4816-9102-aa11d6e20f63 button');\n",
              "      quickchartButtonEl.style.display =\n",
              "        google.colab.kernel.accessAllowed ? 'block' : 'none';\n",
              "    })();\n",
              "  </script>\n",
              "</div>\n",
              "\n",
              "    </div>\n",
              "  </div>\n"
            ],
            "application/vnd.google.colaboratory.intrinsic+json": {
              "type": "dataframe",
              "variable_name": "df",
              "summary": "{\n  \"name\": \"df\",\n  \"rows\": 100,\n  \"fields\": [\n    {\n      \"column\": \"JokeId\",\n      \"properties\": {\n        \"dtype\": \"number\",\n        \"std\": 29,\n        \"min\": 0,\n        \"max\": 99,\n        \"num_unique_values\": 100,\n        \"samples\": [\n          83,\n          53,\n          70\n        ],\n        \"semantic_type\": \"\",\n        \"description\": \"\"\n      }\n    },\n    {\n      \"column\": \"JokeText\",\n      \"properties\": {\n        \"dtype\": \"string\",\n        \"num_unique_values\": 100,\n        \"samples\": [\n          \"Q: What is the difference between Mechanical Engineers and Civil \\nEngineers?\\n \\nA: Mechanical Engineers build weapons, Civil Engineers build targets.\\n\",\n          \"The Pope dies and, naturally, goes to heaven. He's met by the reception\\ncommittee, and after a whirlwind tour he is told that he can enjoy any\\nof the myriad of recreations available.\\nHe decides that he wants to read all of the ancient original text of the\\nHoly Scriptures, so he spends the next eon or so learning languages.\\nAfter becoming a linguistic master, he sits down in the library and\\nbegins to pour over every version of the Bible, working back from most\\nrecent \\\"Easy Reading\\\" to the original script.\\nAll of a sudden there is a scream in the library. The Angels come\\nrunning in only to find the Pope huddled in his chair, crying to himself\\nand muttering, \\\"An 'R'! The scribes left out the 'R'.\\\" \\nA particularly concerned Angel takes him aside, offering comfort, asks\\nhim what the problem is and what does he mean. \\nAfter collecting his\\nwits, the Pope sobs again, \\\"It's the letter 'R'. They left out the 'R'.\\nThe word was supposed to be CELEBRATE!\\\"\\n\",\n          \"At a recent Sacramento PC Users Group meeting,\\na company was demonstrating its latest speech-\\nrecognition software.   A representative from the\\ncompany was just about ready to start the\\ndemonstration and asked everyone in the room\\nto quiet down.\\n\\nJust then someone in the back of the room yelled,\\n\\\"Format C: Return.\\\"\\n\\nSomeone else chimed in:\\n\\\"Yes, Return\\\"\\n\\nUnfortunately, the software worked.\\n\\n\"\n        ],\n        \"semantic_type\": \"\",\n        \"description\": \"\"\n      }\n    }\n  ]\n}"
            }
          },
          "metadata": {},
          "execution_count": 5
        }
      ]
    },
    {
      "cell_type": "code",
      "source": [
        "dfr1.head()"
      ],
      "metadata": {
        "colab": {
          "base_uri": "https://localhost:8080/",
          "height": 256
        },
        "id": "OV_wux2Xt5ep",
        "outputId": "f0b1f55a-dfdc-4516-8dd4-81d2a29231f9"
      },
      "execution_count": 6,
      "outputs": [
        {
          "output_type": "execute_result",
          "data": {
            "text/plain": [
              "   JokeId  User1  User2  User3  User4  User5  User6  User7  User8  User9  ...  \\\n",
              "0       0   5.10  -8.79  -3.50   7.14  -8.79   9.22  -4.03   3.11  -3.64  ...   \n",
              "1       1   4.90  -0.87  -2.91  -3.88  -0.58   9.37  -1.55   0.92  -3.35  ...   \n",
              "2       2   1.75   1.99  -2.18  -3.06  -0.58  -3.93  -3.64   7.52  -6.46  ...   \n",
              "3       3  -4.17  -4.61  -0.10   0.05   8.98   9.27  -6.99   0.49  -3.40  ...   \n",
              "4       4   5.15   5.39   7.52   6.26   7.67   3.45   5.44  -0.58   1.26  ...   \n",
              "\n",
              "   User36701  User36702  User36703  User36704  User36705  User36706  \\\n",
              "0        NaN        NaN        NaN        NaN        NaN        NaN   \n",
              "1        NaN        NaN        NaN      -5.63        NaN      -6.07   \n",
              "2        NaN        NaN        NaN        NaN        NaN       4.08   \n",
              "3        NaN        NaN        NaN        NaN        NaN        NaN   \n",
              "4       2.28      -0.49        5.1      -0.29      -3.54      -1.36   \n",
              "\n",
              "   User36707  User36708  User36709  User36710  \n",
              "0        NaN        NaN       2.91        NaN  \n",
              "1        NaN      -1.60      -4.56        NaN  \n",
              "2        NaN        NaN       8.98        NaN  \n",
              "3        NaN        NaN        NaN        NaN  \n",
              "4       7.48      -5.78       0.73       2.62  \n",
              "\n",
              "[5 rows x 36711 columns]"
            ],
            "text/html": [
              "\n",
              "  <div id=\"df-653c39f8-599e-4d78-8172-5d462840e056\" class=\"colab-df-container\">\n",
              "    <div>\n",
              "<style scoped>\n",
              "    .dataframe tbody tr th:only-of-type {\n",
              "        vertical-align: middle;\n",
              "    }\n",
              "\n",
              "    .dataframe tbody tr th {\n",
              "        vertical-align: top;\n",
              "    }\n",
              "\n",
              "    .dataframe thead th {\n",
              "        text-align: right;\n",
              "    }\n",
              "</style>\n",
              "<table border=\"1\" class=\"dataframe\">\n",
              "  <thead>\n",
              "    <tr style=\"text-align: right;\">\n",
              "      <th></th>\n",
              "      <th>JokeId</th>\n",
              "      <th>User1</th>\n",
              "      <th>User2</th>\n",
              "      <th>User3</th>\n",
              "      <th>User4</th>\n",
              "      <th>User5</th>\n",
              "      <th>User6</th>\n",
              "      <th>User7</th>\n",
              "      <th>User8</th>\n",
              "      <th>User9</th>\n",
              "      <th>...</th>\n",
              "      <th>User36701</th>\n",
              "      <th>User36702</th>\n",
              "      <th>User36703</th>\n",
              "      <th>User36704</th>\n",
              "      <th>User36705</th>\n",
              "      <th>User36706</th>\n",
              "      <th>User36707</th>\n",
              "      <th>User36708</th>\n",
              "      <th>User36709</th>\n",
              "      <th>User36710</th>\n",
              "    </tr>\n",
              "  </thead>\n",
              "  <tbody>\n",
              "    <tr>\n",
              "      <th>0</th>\n",
              "      <td>0</td>\n",
              "      <td>5.10</td>\n",
              "      <td>-8.79</td>\n",
              "      <td>-3.50</td>\n",
              "      <td>7.14</td>\n",
              "      <td>-8.79</td>\n",
              "      <td>9.22</td>\n",
              "      <td>-4.03</td>\n",
              "      <td>3.11</td>\n",
              "      <td>-3.64</td>\n",
              "      <td>...</td>\n",
              "      <td>NaN</td>\n",
              "      <td>NaN</td>\n",
              "      <td>NaN</td>\n",
              "      <td>NaN</td>\n",
              "      <td>NaN</td>\n",
              "      <td>NaN</td>\n",
              "      <td>NaN</td>\n",
              "      <td>NaN</td>\n",
              "      <td>2.91</td>\n",
              "      <td>NaN</td>\n",
              "    </tr>\n",
              "    <tr>\n",
              "      <th>1</th>\n",
              "      <td>1</td>\n",
              "      <td>4.90</td>\n",
              "      <td>-0.87</td>\n",
              "      <td>-2.91</td>\n",
              "      <td>-3.88</td>\n",
              "      <td>-0.58</td>\n",
              "      <td>9.37</td>\n",
              "      <td>-1.55</td>\n",
              "      <td>0.92</td>\n",
              "      <td>-3.35</td>\n",
              "      <td>...</td>\n",
              "      <td>NaN</td>\n",
              "      <td>NaN</td>\n",
              "      <td>NaN</td>\n",
              "      <td>-5.63</td>\n",
              "      <td>NaN</td>\n",
              "      <td>-6.07</td>\n",
              "      <td>NaN</td>\n",
              "      <td>-1.60</td>\n",
              "      <td>-4.56</td>\n",
              "      <td>NaN</td>\n",
              "    </tr>\n",
              "    <tr>\n",
              "      <th>2</th>\n",
              "      <td>2</td>\n",
              "      <td>1.75</td>\n",
              "      <td>1.99</td>\n",
              "      <td>-2.18</td>\n",
              "      <td>-3.06</td>\n",
              "      <td>-0.58</td>\n",
              "      <td>-3.93</td>\n",
              "      <td>-3.64</td>\n",
              "      <td>7.52</td>\n",
              "      <td>-6.46</td>\n",
              "      <td>...</td>\n",
              "      <td>NaN</td>\n",
              "      <td>NaN</td>\n",
              "      <td>NaN</td>\n",
              "      <td>NaN</td>\n",
              "      <td>NaN</td>\n",
              "      <td>4.08</td>\n",
              "      <td>NaN</td>\n",
              "      <td>NaN</td>\n",
              "      <td>8.98</td>\n",
              "      <td>NaN</td>\n",
              "    </tr>\n",
              "    <tr>\n",
              "      <th>3</th>\n",
              "      <td>3</td>\n",
              "      <td>-4.17</td>\n",
              "      <td>-4.61</td>\n",
              "      <td>-0.10</td>\n",
              "      <td>0.05</td>\n",
              "      <td>8.98</td>\n",
              "      <td>9.27</td>\n",
              "      <td>-6.99</td>\n",
              "      <td>0.49</td>\n",
              "      <td>-3.40</td>\n",
              "      <td>...</td>\n",
              "      <td>NaN</td>\n",
              "      <td>NaN</td>\n",
              "      <td>NaN</td>\n",
              "      <td>NaN</td>\n",
              "      <td>NaN</td>\n",
              "      <td>NaN</td>\n",
              "      <td>NaN</td>\n",
              "      <td>NaN</td>\n",
              "      <td>NaN</td>\n",
              "      <td>NaN</td>\n",
              "    </tr>\n",
              "    <tr>\n",
              "      <th>4</th>\n",
              "      <td>4</td>\n",
              "      <td>5.15</td>\n",
              "      <td>5.39</td>\n",
              "      <td>7.52</td>\n",
              "      <td>6.26</td>\n",
              "      <td>7.67</td>\n",
              "      <td>3.45</td>\n",
              "      <td>5.44</td>\n",
              "      <td>-0.58</td>\n",
              "      <td>1.26</td>\n",
              "      <td>...</td>\n",
              "      <td>2.28</td>\n",
              "      <td>-0.49</td>\n",
              "      <td>5.1</td>\n",
              "      <td>-0.29</td>\n",
              "      <td>-3.54</td>\n",
              "      <td>-1.36</td>\n",
              "      <td>7.48</td>\n",
              "      <td>-5.78</td>\n",
              "      <td>0.73</td>\n",
              "      <td>2.62</td>\n",
              "    </tr>\n",
              "  </tbody>\n",
              "</table>\n",
              "<p>5 rows × 36711 columns</p>\n",
              "</div>\n",
              "    <div class=\"colab-df-buttons\">\n",
              "\n",
              "  <div class=\"colab-df-container\">\n",
              "    <button class=\"colab-df-convert\" onclick=\"convertToInteractive('df-653c39f8-599e-4d78-8172-5d462840e056')\"\n",
              "            title=\"Convert this dataframe to an interactive table.\"\n",
              "            style=\"display:none;\">\n",
              "\n",
              "  <svg xmlns=\"http://www.w3.org/2000/svg\" height=\"24px\" viewBox=\"0 -960 960 960\">\n",
              "    <path d=\"M120-120v-720h720v720H120Zm60-500h600v-160H180v160Zm220 220h160v-160H400v160Zm0 220h160v-160H400v160ZM180-400h160v-160H180v160Zm440 0h160v-160H620v160ZM180-180h160v-160H180v160Zm440 0h160v-160H620v160Z\"/>\n",
              "  </svg>\n",
              "    </button>\n",
              "\n",
              "  <style>\n",
              "    .colab-df-container {\n",
              "      display:flex;\n",
              "      gap: 12px;\n",
              "    }\n",
              "\n",
              "    .colab-df-convert {\n",
              "      background-color: #E8F0FE;\n",
              "      border: none;\n",
              "      border-radius: 50%;\n",
              "      cursor: pointer;\n",
              "      display: none;\n",
              "      fill: #1967D2;\n",
              "      height: 32px;\n",
              "      padding: 0 0 0 0;\n",
              "      width: 32px;\n",
              "    }\n",
              "\n",
              "    .colab-df-convert:hover {\n",
              "      background-color: #E2EBFA;\n",
              "      box-shadow: 0px 1px 2px rgba(60, 64, 67, 0.3), 0px 1px 3px 1px rgba(60, 64, 67, 0.15);\n",
              "      fill: #174EA6;\n",
              "    }\n",
              "\n",
              "    .colab-df-buttons div {\n",
              "      margin-bottom: 4px;\n",
              "    }\n",
              "\n",
              "    [theme=dark] .colab-df-convert {\n",
              "      background-color: #3B4455;\n",
              "      fill: #D2E3FC;\n",
              "    }\n",
              "\n",
              "    [theme=dark] .colab-df-convert:hover {\n",
              "      background-color: #434B5C;\n",
              "      box-shadow: 0px 1px 3px 1px rgba(0, 0, 0, 0.15);\n",
              "      filter: drop-shadow(0px 1px 2px rgba(0, 0, 0, 0.3));\n",
              "      fill: #FFFFFF;\n",
              "    }\n",
              "  </style>\n",
              "\n",
              "    <script>\n",
              "      const buttonEl =\n",
              "        document.querySelector('#df-653c39f8-599e-4d78-8172-5d462840e056 button.colab-df-convert');\n",
              "      buttonEl.style.display =\n",
              "        google.colab.kernel.accessAllowed ? 'block' : 'none';\n",
              "\n",
              "      async function convertToInteractive(key) {\n",
              "        const element = document.querySelector('#df-653c39f8-599e-4d78-8172-5d462840e056');\n",
              "        const dataTable =\n",
              "          await google.colab.kernel.invokeFunction('convertToInteractive',\n",
              "                                                    [key], {});\n",
              "        if (!dataTable) return;\n",
              "\n",
              "        const docLinkHtml = 'Like what you see? Visit the ' +\n",
              "          '<a target=\"_blank\" href=https://colab.research.google.com/notebooks/data_table.ipynb>data table notebook</a>'\n",
              "          + ' to learn more about interactive tables.';\n",
              "        element.innerHTML = '';\n",
              "        dataTable['output_type'] = 'display_data';\n",
              "        await google.colab.output.renderOutput(dataTable, element);\n",
              "        const docLink = document.createElement('div');\n",
              "        docLink.innerHTML = docLinkHtml;\n",
              "        element.appendChild(docLink);\n",
              "      }\n",
              "    </script>\n",
              "  </div>\n",
              "\n",
              "\n",
              "<div id=\"df-e6399e90-baca-4296-a609-edb38074e0f1\">\n",
              "  <button class=\"colab-df-quickchart\" onclick=\"quickchart('df-e6399e90-baca-4296-a609-edb38074e0f1')\"\n",
              "            title=\"Suggest charts\"\n",
              "            style=\"display:none;\">\n",
              "\n",
              "<svg xmlns=\"http://www.w3.org/2000/svg\" height=\"24px\"viewBox=\"0 0 24 24\"\n",
              "     width=\"24px\">\n",
              "    <g>\n",
              "        <path d=\"M19 3H5c-1.1 0-2 .9-2 2v14c0 1.1.9 2 2 2h14c1.1 0 2-.9 2-2V5c0-1.1-.9-2-2-2zM9 17H7v-7h2v7zm4 0h-2V7h2v10zm4 0h-2v-4h2v4z\"/>\n",
              "    </g>\n",
              "</svg>\n",
              "  </button>\n",
              "\n",
              "<style>\n",
              "  .colab-df-quickchart {\n",
              "      --bg-color: #E8F0FE;\n",
              "      --fill-color: #1967D2;\n",
              "      --hover-bg-color: #E2EBFA;\n",
              "      --hover-fill-color: #174EA6;\n",
              "      --disabled-fill-color: #AAA;\n",
              "      --disabled-bg-color: #DDD;\n",
              "  }\n",
              "\n",
              "  [theme=dark] .colab-df-quickchart {\n",
              "      --bg-color: #3B4455;\n",
              "      --fill-color: #D2E3FC;\n",
              "      --hover-bg-color: #434B5C;\n",
              "      --hover-fill-color: #FFFFFF;\n",
              "      --disabled-bg-color: #3B4455;\n",
              "      --disabled-fill-color: #666;\n",
              "  }\n",
              "\n",
              "  .colab-df-quickchart {\n",
              "    background-color: var(--bg-color);\n",
              "    border: none;\n",
              "    border-radius: 50%;\n",
              "    cursor: pointer;\n",
              "    display: none;\n",
              "    fill: var(--fill-color);\n",
              "    height: 32px;\n",
              "    padding: 0;\n",
              "    width: 32px;\n",
              "  }\n",
              "\n",
              "  .colab-df-quickchart:hover {\n",
              "    background-color: var(--hover-bg-color);\n",
              "    box-shadow: 0 1px 2px rgba(60, 64, 67, 0.3), 0 1px 3px 1px rgba(60, 64, 67, 0.15);\n",
              "    fill: var(--button-hover-fill-color);\n",
              "  }\n",
              "\n",
              "  .colab-df-quickchart-complete:disabled,\n",
              "  .colab-df-quickchart-complete:disabled:hover {\n",
              "    background-color: var(--disabled-bg-color);\n",
              "    fill: var(--disabled-fill-color);\n",
              "    box-shadow: none;\n",
              "  }\n",
              "\n",
              "  .colab-df-spinner {\n",
              "    border: 2px solid var(--fill-color);\n",
              "    border-color: transparent;\n",
              "    border-bottom-color: var(--fill-color);\n",
              "    animation:\n",
              "      spin 1s steps(1) infinite;\n",
              "  }\n",
              "\n",
              "  @keyframes spin {\n",
              "    0% {\n",
              "      border-color: transparent;\n",
              "      border-bottom-color: var(--fill-color);\n",
              "      border-left-color: var(--fill-color);\n",
              "    }\n",
              "    20% {\n",
              "      border-color: transparent;\n",
              "      border-left-color: var(--fill-color);\n",
              "      border-top-color: var(--fill-color);\n",
              "    }\n",
              "    30% {\n",
              "      border-color: transparent;\n",
              "      border-left-color: var(--fill-color);\n",
              "      border-top-color: var(--fill-color);\n",
              "      border-right-color: var(--fill-color);\n",
              "    }\n",
              "    40% {\n",
              "      border-color: transparent;\n",
              "      border-right-color: var(--fill-color);\n",
              "      border-top-color: var(--fill-color);\n",
              "    }\n",
              "    60% {\n",
              "      border-color: transparent;\n",
              "      border-right-color: var(--fill-color);\n",
              "    }\n",
              "    80% {\n",
              "      border-color: transparent;\n",
              "      border-right-color: var(--fill-color);\n",
              "      border-bottom-color: var(--fill-color);\n",
              "    }\n",
              "    90% {\n",
              "      border-color: transparent;\n",
              "      border-bottom-color: var(--fill-color);\n",
              "    }\n",
              "  }\n",
              "</style>\n",
              "\n",
              "  <script>\n",
              "    async function quickchart(key) {\n",
              "      const quickchartButtonEl =\n",
              "        document.querySelector('#' + key + ' button');\n",
              "      quickchartButtonEl.disabled = true;  // To prevent multiple clicks.\n",
              "      quickchartButtonEl.classList.add('colab-df-spinner');\n",
              "      try {\n",
              "        const charts = await google.colab.kernel.invokeFunction(\n",
              "            'suggestCharts', [key], {});\n",
              "      } catch (error) {\n",
              "        console.error('Error during call to suggestCharts:', error);\n",
              "      }\n",
              "      quickchartButtonEl.classList.remove('colab-df-spinner');\n",
              "      quickchartButtonEl.classList.add('colab-df-quickchart-complete');\n",
              "    }\n",
              "    (() => {\n",
              "      let quickchartButtonEl =\n",
              "        document.querySelector('#df-e6399e90-baca-4296-a609-edb38074e0f1 button');\n",
              "      quickchartButtonEl.style.display =\n",
              "        google.colab.kernel.accessAllowed ? 'block' : 'none';\n",
              "    })();\n",
              "  </script>\n",
              "</div>\n",
              "\n",
              "    </div>\n",
              "  </div>\n"
            ],
            "application/vnd.google.colaboratory.intrinsic+json": {
              "type": "dataframe",
              "variable_name": "dfr1"
            }
          },
          "metadata": {},
          "execution_count": 6
        }
      ]
    },
    {
      "cell_type": "code",
      "source": [
        "dfr2.head()"
      ],
      "metadata": {
        "colab": {
          "base_uri": "https://localhost:8080/",
          "height": 256
        },
        "id": "2XOAveggt8MR",
        "outputId": "ee9d1e1b-ac3c-461d-dac5-76559c25d04e"
      },
      "execution_count": 7,
      "outputs": [
        {
          "output_type": "execute_result",
          "data": {
            "text/plain": [
              "   JokeId  User36711  User36712  User36713  User36714  User36715  User36716  \\\n",
              "0       0        NaN        NaN        NaN       3.93        NaN        NaN   \n",
              "1       1        NaN        NaN        NaN        NaN        NaN        NaN   \n",
              "2       2        NaN        NaN        NaN        NaN        NaN        NaN   \n",
              "3       3        NaN        NaN        NaN        NaN        NaN        NaN   \n",
              "4       4       5.68       1.07       8.11      -2.33      -5.83        8.2   \n",
              "\n",
              "   User36717  User36718  User36719  ...  User73412  User73413  User73414  \\\n",
              "0        NaN        NaN        NaN  ...        NaN        NaN        NaN   \n",
              "1        NaN        NaN       4.81  ...        NaN        NaN        NaN   \n",
              "2        NaN        NaN        NaN  ...        NaN        NaN        NaN   \n",
              "3        NaN        NaN        NaN  ...        NaN        NaN        NaN   \n",
              "4      -5.83       1.94       0.10  ...       3.64       4.32       6.99   \n",
              "\n",
              "   User73415  User73416  User73417  User73418  User73419  User73420  User73421  \n",
              "0        NaN        NaN        NaN        NaN        NaN        NaN        NaN  \n",
              "1        NaN        NaN        NaN        NaN        NaN        NaN        NaN  \n",
              "2        NaN        NaN        NaN        NaN        NaN        NaN        NaN  \n",
              "3        NaN        NaN        NaN        NaN        NaN        NaN        NaN  \n",
              "4      -9.66       -8.4      -0.63       9.51      -7.67       -1.6        8.3  \n",
              "\n",
              "[5 rows x 36712 columns]"
            ],
            "text/html": [
              "\n",
              "  <div id=\"df-8bba575a-6f71-4d73-b700-984c0c79ec76\" class=\"colab-df-container\">\n",
              "    <div>\n",
              "<style scoped>\n",
              "    .dataframe tbody tr th:only-of-type {\n",
              "        vertical-align: middle;\n",
              "    }\n",
              "\n",
              "    .dataframe tbody tr th {\n",
              "        vertical-align: top;\n",
              "    }\n",
              "\n",
              "    .dataframe thead th {\n",
              "        text-align: right;\n",
              "    }\n",
              "</style>\n",
              "<table border=\"1\" class=\"dataframe\">\n",
              "  <thead>\n",
              "    <tr style=\"text-align: right;\">\n",
              "      <th></th>\n",
              "      <th>JokeId</th>\n",
              "      <th>User36711</th>\n",
              "      <th>User36712</th>\n",
              "      <th>User36713</th>\n",
              "      <th>User36714</th>\n",
              "      <th>User36715</th>\n",
              "      <th>User36716</th>\n",
              "      <th>User36717</th>\n",
              "      <th>User36718</th>\n",
              "      <th>User36719</th>\n",
              "      <th>...</th>\n",
              "      <th>User73412</th>\n",
              "      <th>User73413</th>\n",
              "      <th>User73414</th>\n",
              "      <th>User73415</th>\n",
              "      <th>User73416</th>\n",
              "      <th>User73417</th>\n",
              "      <th>User73418</th>\n",
              "      <th>User73419</th>\n",
              "      <th>User73420</th>\n",
              "      <th>User73421</th>\n",
              "    </tr>\n",
              "  </thead>\n",
              "  <tbody>\n",
              "    <tr>\n",
              "      <th>0</th>\n",
              "      <td>0</td>\n",
              "      <td>NaN</td>\n",
              "      <td>NaN</td>\n",
              "      <td>NaN</td>\n",
              "      <td>3.93</td>\n",
              "      <td>NaN</td>\n",
              "      <td>NaN</td>\n",
              "      <td>NaN</td>\n",
              "      <td>NaN</td>\n",
              "      <td>NaN</td>\n",
              "      <td>...</td>\n",
              "      <td>NaN</td>\n",
              "      <td>NaN</td>\n",
              "      <td>NaN</td>\n",
              "      <td>NaN</td>\n",
              "      <td>NaN</td>\n",
              "      <td>NaN</td>\n",
              "      <td>NaN</td>\n",
              "      <td>NaN</td>\n",
              "      <td>NaN</td>\n",
              "      <td>NaN</td>\n",
              "    </tr>\n",
              "    <tr>\n",
              "      <th>1</th>\n",
              "      <td>1</td>\n",
              "      <td>NaN</td>\n",
              "      <td>NaN</td>\n",
              "      <td>NaN</td>\n",
              "      <td>NaN</td>\n",
              "      <td>NaN</td>\n",
              "      <td>NaN</td>\n",
              "      <td>NaN</td>\n",
              "      <td>NaN</td>\n",
              "      <td>4.81</td>\n",
              "      <td>...</td>\n",
              "      <td>NaN</td>\n",
              "      <td>NaN</td>\n",
              "      <td>NaN</td>\n",
              "      <td>NaN</td>\n",
              "      <td>NaN</td>\n",
              "      <td>NaN</td>\n",
              "      <td>NaN</td>\n",
              "      <td>NaN</td>\n",
              "      <td>NaN</td>\n",
              "      <td>NaN</td>\n",
              "    </tr>\n",
              "    <tr>\n",
              "      <th>2</th>\n",
              "      <td>2</td>\n",
              "      <td>NaN</td>\n",
              "      <td>NaN</td>\n",
              "      <td>NaN</td>\n",
              "      <td>NaN</td>\n",
              "      <td>NaN</td>\n",
              "      <td>NaN</td>\n",
              "      <td>NaN</td>\n",
              "      <td>NaN</td>\n",
              "      <td>NaN</td>\n",
              "      <td>...</td>\n",
              "      <td>NaN</td>\n",
              "      <td>NaN</td>\n",
              "      <td>NaN</td>\n",
              "      <td>NaN</td>\n",
              "      <td>NaN</td>\n",
              "      <td>NaN</td>\n",
              "      <td>NaN</td>\n",
              "      <td>NaN</td>\n",
              "      <td>NaN</td>\n",
              "      <td>NaN</td>\n",
              "    </tr>\n",
              "    <tr>\n",
              "      <th>3</th>\n",
              "      <td>3</td>\n",
              "      <td>NaN</td>\n",
              "      <td>NaN</td>\n",
              "      <td>NaN</td>\n",
              "      <td>NaN</td>\n",
              "      <td>NaN</td>\n",
              "      <td>NaN</td>\n",
              "      <td>NaN</td>\n",
              "      <td>NaN</td>\n",
              "      <td>NaN</td>\n",
              "      <td>...</td>\n",
              "      <td>NaN</td>\n",
              "      <td>NaN</td>\n",
              "      <td>NaN</td>\n",
              "      <td>NaN</td>\n",
              "      <td>NaN</td>\n",
              "      <td>NaN</td>\n",
              "      <td>NaN</td>\n",
              "      <td>NaN</td>\n",
              "      <td>NaN</td>\n",
              "      <td>NaN</td>\n",
              "    </tr>\n",
              "    <tr>\n",
              "      <th>4</th>\n",
              "      <td>4</td>\n",
              "      <td>5.68</td>\n",
              "      <td>1.07</td>\n",
              "      <td>8.11</td>\n",
              "      <td>-2.33</td>\n",
              "      <td>-5.83</td>\n",
              "      <td>8.2</td>\n",
              "      <td>-5.83</td>\n",
              "      <td>1.94</td>\n",
              "      <td>0.10</td>\n",
              "      <td>...</td>\n",
              "      <td>3.64</td>\n",
              "      <td>4.32</td>\n",
              "      <td>6.99</td>\n",
              "      <td>-9.66</td>\n",
              "      <td>-8.4</td>\n",
              "      <td>-0.63</td>\n",
              "      <td>9.51</td>\n",
              "      <td>-7.67</td>\n",
              "      <td>-1.6</td>\n",
              "      <td>8.3</td>\n",
              "    </tr>\n",
              "  </tbody>\n",
              "</table>\n",
              "<p>5 rows × 36712 columns</p>\n",
              "</div>\n",
              "    <div class=\"colab-df-buttons\">\n",
              "\n",
              "  <div class=\"colab-df-container\">\n",
              "    <button class=\"colab-df-convert\" onclick=\"convertToInteractive('df-8bba575a-6f71-4d73-b700-984c0c79ec76')\"\n",
              "            title=\"Convert this dataframe to an interactive table.\"\n",
              "            style=\"display:none;\">\n",
              "\n",
              "  <svg xmlns=\"http://www.w3.org/2000/svg\" height=\"24px\" viewBox=\"0 -960 960 960\">\n",
              "    <path d=\"M120-120v-720h720v720H120Zm60-500h600v-160H180v160Zm220 220h160v-160H400v160Zm0 220h160v-160H400v160ZM180-400h160v-160H180v160Zm440 0h160v-160H620v160ZM180-180h160v-160H180v160Zm440 0h160v-160H620v160Z\"/>\n",
              "  </svg>\n",
              "    </button>\n",
              "\n",
              "  <style>\n",
              "    .colab-df-container {\n",
              "      display:flex;\n",
              "      gap: 12px;\n",
              "    }\n",
              "\n",
              "    .colab-df-convert {\n",
              "      background-color: #E8F0FE;\n",
              "      border: none;\n",
              "      border-radius: 50%;\n",
              "      cursor: pointer;\n",
              "      display: none;\n",
              "      fill: #1967D2;\n",
              "      height: 32px;\n",
              "      padding: 0 0 0 0;\n",
              "      width: 32px;\n",
              "    }\n",
              "\n",
              "    .colab-df-convert:hover {\n",
              "      background-color: #E2EBFA;\n",
              "      box-shadow: 0px 1px 2px rgba(60, 64, 67, 0.3), 0px 1px 3px 1px rgba(60, 64, 67, 0.15);\n",
              "      fill: #174EA6;\n",
              "    }\n",
              "\n",
              "    .colab-df-buttons div {\n",
              "      margin-bottom: 4px;\n",
              "    }\n",
              "\n",
              "    [theme=dark] .colab-df-convert {\n",
              "      background-color: #3B4455;\n",
              "      fill: #D2E3FC;\n",
              "    }\n",
              "\n",
              "    [theme=dark] .colab-df-convert:hover {\n",
              "      background-color: #434B5C;\n",
              "      box-shadow: 0px 1px 3px 1px rgba(0, 0, 0, 0.15);\n",
              "      filter: drop-shadow(0px 1px 2px rgba(0, 0, 0, 0.3));\n",
              "      fill: #FFFFFF;\n",
              "    }\n",
              "  </style>\n",
              "\n",
              "    <script>\n",
              "      const buttonEl =\n",
              "        document.querySelector('#df-8bba575a-6f71-4d73-b700-984c0c79ec76 button.colab-df-convert');\n",
              "      buttonEl.style.display =\n",
              "        google.colab.kernel.accessAllowed ? 'block' : 'none';\n",
              "\n",
              "      async function convertToInteractive(key) {\n",
              "        const element = document.querySelector('#df-8bba575a-6f71-4d73-b700-984c0c79ec76');\n",
              "        const dataTable =\n",
              "          await google.colab.kernel.invokeFunction('convertToInteractive',\n",
              "                                                    [key], {});\n",
              "        if (!dataTable) return;\n",
              "\n",
              "        const docLinkHtml = 'Like what you see? Visit the ' +\n",
              "          '<a target=\"_blank\" href=https://colab.research.google.com/notebooks/data_table.ipynb>data table notebook</a>'\n",
              "          + ' to learn more about interactive tables.';\n",
              "        element.innerHTML = '';\n",
              "        dataTable['output_type'] = 'display_data';\n",
              "        await google.colab.output.renderOutput(dataTable, element);\n",
              "        const docLink = document.createElement('div');\n",
              "        docLink.innerHTML = docLinkHtml;\n",
              "        element.appendChild(docLink);\n",
              "      }\n",
              "    </script>\n",
              "  </div>\n",
              "\n",
              "\n",
              "<div id=\"df-95beed00-3a9a-48a3-b8cf-8dfe7f191954\">\n",
              "  <button class=\"colab-df-quickchart\" onclick=\"quickchart('df-95beed00-3a9a-48a3-b8cf-8dfe7f191954')\"\n",
              "            title=\"Suggest charts\"\n",
              "            style=\"display:none;\">\n",
              "\n",
              "<svg xmlns=\"http://www.w3.org/2000/svg\" height=\"24px\"viewBox=\"0 0 24 24\"\n",
              "     width=\"24px\">\n",
              "    <g>\n",
              "        <path d=\"M19 3H5c-1.1 0-2 .9-2 2v14c0 1.1.9 2 2 2h14c1.1 0 2-.9 2-2V5c0-1.1-.9-2-2-2zM9 17H7v-7h2v7zm4 0h-2V7h2v10zm4 0h-2v-4h2v4z\"/>\n",
              "    </g>\n",
              "</svg>\n",
              "  </button>\n",
              "\n",
              "<style>\n",
              "  .colab-df-quickchart {\n",
              "      --bg-color: #E8F0FE;\n",
              "      --fill-color: #1967D2;\n",
              "      --hover-bg-color: #E2EBFA;\n",
              "      --hover-fill-color: #174EA6;\n",
              "      --disabled-fill-color: #AAA;\n",
              "      --disabled-bg-color: #DDD;\n",
              "  }\n",
              "\n",
              "  [theme=dark] .colab-df-quickchart {\n",
              "      --bg-color: #3B4455;\n",
              "      --fill-color: #D2E3FC;\n",
              "      --hover-bg-color: #434B5C;\n",
              "      --hover-fill-color: #FFFFFF;\n",
              "      --disabled-bg-color: #3B4455;\n",
              "      --disabled-fill-color: #666;\n",
              "  }\n",
              "\n",
              "  .colab-df-quickchart {\n",
              "    background-color: var(--bg-color);\n",
              "    border: none;\n",
              "    border-radius: 50%;\n",
              "    cursor: pointer;\n",
              "    display: none;\n",
              "    fill: var(--fill-color);\n",
              "    height: 32px;\n",
              "    padding: 0;\n",
              "    width: 32px;\n",
              "  }\n",
              "\n",
              "  .colab-df-quickchart:hover {\n",
              "    background-color: var(--hover-bg-color);\n",
              "    box-shadow: 0 1px 2px rgba(60, 64, 67, 0.3), 0 1px 3px 1px rgba(60, 64, 67, 0.15);\n",
              "    fill: var(--button-hover-fill-color);\n",
              "  }\n",
              "\n",
              "  .colab-df-quickchart-complete:disabled,\n",
              "  .colab-df-quickchart-complete:disabled:hover {\n",
              "    background-color: var(--disabled-bg-color);\n",
              "    fill: var(--disabled-fill-color);\n",
              "    box-shadow: none;\n",
              "  }\n",
              "\n",
              "  .colab-df-spinner {\n",
              "    border: 2px solid var(--fill-color);\n",
              "    border-color: transparent;\n",
              "    border-bottom-color: var(--fill-color);\n",
              "    animation:\n",
              "      spin 1s steps(1) infinite;\n",
              "  }\n",
              "\n",
              "  @keyframes spin {\n",
              "    0% {\n",
              "      border-color: transparent;\n",
              "      border-bottom-color: var(--fill-color);\n",
              "      border-left-color: var(--fill-color);\n",
              "    }\n",
              "    20% {\n",
              "      border-color: transparent;\n",
              "      border-left-color: var(--fill-color);\n",
              "      border-top-color: var(--fill-color);\n",
              "    }\n",
              "    30% {\n",
              "      border-color: transparent;\n",
              "      border-left-color: var(--fill-color);\n",
              "      border-top-color: var(--fill-color);\n",
              "      border-right-color: var(--fill-color);\n",
              "    }\n",
              "    40% {\n",
              "      border-color: transparent;\n",
              "      border-right-color: var(--fill-color);\n",
              "      border-top-color: var(--fill-color);\n",
              "    }\n",
              "    60% {\n",
              "      border-color: transparent;\n",
              "      border-right-color: var(--fill-color);\n",
              "    }\n",
              "    80% {\n",
              "      border-color: transparent;\n",
              "      border-right-color: var(--fill-color);\n",
              "      border-bottom-color: var(--fill-color);\n",
              "    }\n",
              "    90% {\n",
              "      border-color: transparent;\n",
              "      border-bottom-color: var(--fill-color);\n",
              "    }\n",
              "  }\n",
              "</style>\n",
              "\n",
              "  <script>\n",
              "    async function quickchart(key) {\n",
              "      const quickchartButtonEl =\n",
              "        document.querySelector('#' + key + ' button');\n",
              "      quickchartButtonEl.disabled = true;  // To prevent multiple clicks.\n",
              "      quickchartButtonEl.classList.add('colab-df-spinner');\n",
              "      try {\n",
              "        const charts = await google.colab.kernel.invokeFunction(\n",
              "            'suggestCharts', [key], {});\n",
              "      } catch (error) {\n",
              "        console.error('Error during call to suggestCharts:', error);\n",
              "      }\n",
              "      quickchartButtonEl.classList.remove('colab-df-spinner');\n",
              "      quickchartButtonEl.classList.add('colab-df-quickchart-complete');\n",
              "    }\n",
              "    (() => {\n",
              "      let quickchartButtonEl =\n",
              "        document.querySelector('#df-95beed00-3a9a-48a3-b8cf-8dfe7f191954 button');\n",
              "      quickchartButtonEl.style.display =\n",
              "        google.colab.kernel.accessAllowed ? 'block' : 'none';\n",
              "    })();\n",
              "  </script>\n",
              "</div>\n",
              "\n",
              "    </div>\n",
              "  </div>\n"
            ],
            "application/vnd.google.colaboratory.intrinsic+json": {
              "type": "dataframe",
              "variable_name": "dfr2"
            }
          },
          "metadata": {},
          "execution_count": 7
        }
      ]
    },
    {
      "cell_type": "code",
      "source": [
        "# Check for missing values in user ratings datasets\n",
        "dfr1.fillna(dfr1.mean(numeric_only=True), inplace=True)\n",
        "dfr2.fillna(dfr2.mean(numeric_only=True), inplace=True)\n",
        "# Check for missing values in jester data\n",
        "df.fillna(df.mean(numeric_only=True), inplace=True)"
      ],
      "metadata": {
        "id": "5ZiWShrUQYCS"
      },
      "execution_count": 11,
      "outputs": []
    },
    {
      "cell_type": "code",
      "source": [
        "# Display the shape of each dataset\n",
        "print(\"User Ratings 1 (dfr1) shape:\", dfr1.shape)\n",
        "print(\"User Ratings 2 (dfr2) shape:\", dfr2.shape)\n",
        "print(\"Jester Data (df) shape:\", df.shape)"
      ],
      "metadata": {
        "colab": {
          "base_uri": "https://localhost:8080/"
        },
        "id": "-72v3kXKuhml",
        "outputId": "1ee42889-0863-4563-e4f0-b4a6fc775e41"
      },
      "execution_count": 12,
      "outputs": [
        {
          "output_type": "stream",
          "name": "stdout",
          "text": [
            "User Ratings 1 (dfr1) shape: (37, 36711)\n",
            "User Ratings 2 (dfr2) shape: (90, 36712)\n",
            "Jester Data (df) shape: (100, 2)\n"
          ]
        }
      ]
    },
    {
      "cell_type": "markdown",
      "source": [
        "As seen above, the user ratings data has 37 users but 36,711 ratings. While there are a large number of ratings, the user count is quite low."
      ],
      "metadata": {
        "id": "eLWrfjfDuNv6"
      }
    },
    {
      "cell_type": "markdown",
      "source": [
        "# **Build Recommendations**"
      ],
      "metadata": {
        "id": "R2MwP6DnPEg6"
      }
    },
    {
      "cell_type": "markdown",
      "source": [
        "If there are duplicates, handle them."
      ],
      "metadata": {
        "id": "sIH0y_qxRqQY"
      }
    },
    {
      "cell_type": "code",
      "source": [
        "# Check for duplicates in dfr1\n",
        "duplicates_dfr1 = dfr1.duplicated()\n",
        "print(\"Duplicates in User Ratings 1 (dfr1):\", duplicates_dfr1.sum())\n",
        "\n",
        "# Check for duplicates in dfr2\n",
        "duplicates_dfr2 = dfr2.duplicated()\n",
        "print(\"Duplicates in User Ratings 2 (dfr2):\", duplicates_dfr2.sum())\n",
        "\n",
        "# Check for duplicates in df\n",
        "duplicates_df = df.duplicated()\n",
        "print(\"Duplicates in Jester Data (df):\", duplicates_df.sum())\n"
      ],
      "metadata": {
        "colab": {
          "base_uri": "https://localhost:8080/"
        },
        "id": "H-TqXfRERtXa",
        "outputId": "dfe0ff93-dadb-4eaf-facc-2b7d0fac740f"
      },
      "execution_count": 13,
      "outputs": [
        {
          "output_type": "stream",
          "name": "stdout",
          "text": [
            "Duplicates in User Ratings 1 (dfr1): 0\n",
            "Duplicates in User Ratings 2 (dfr2): 0\n",
            "Duplicates in Jester Data (df): 0\n"
          ]
        }
      ]
    },
    {
      "cell_type": "markdown",
      "source": [
        "There are no duplicates in the data sets, so work directly on data sets."
      ],
      "metadata": {
        "id": "TvjbP9uBSLEg"
      }
    },
    {
      "cell_type": "markdown",
      "source": [
        "# **Build Model**"
      ],
      "metadata": {
        "id": "Ls1J-5EbRpy2"
      }
    },
    {
      "cell_type": "markdown",
      "source": [
        "**Content Based Filtering**"
      ],
      "metadata": {
        "id": "mTg__1IzTuPj"
      }
    },
    {
      "cell_type": "code",
      "source": [
        "# TF-IDF vectorization\n",
        "tfidf_vectorizer = TfidfVectorizer(stop_words='english')\n",
        "tfidf_matrix = tfidf_vectorizer.fit_transform(df['JokeText'])\n",
        "\n",
        "# Calculate cosine similarity\n",
        "cosine_sim = cosine_similarity(tfidf_matrix, tfidf_matrix)\n",
        "\n",
        "titles = df['JokeText']\n",
        "indices = pd.Series(df.index, index=df['JokeText'])\n",
        "\n",
        "# Define the recommendation function\n",
        "def get_recommendations(joke_text, cosine_sim=cosine_sim):\n",
        "    idx = indices[joke_text]\n",
        "    sim_scores = list(enumerate(cosine_sim[idx]))\n",
        "    sim_scores = sorted(sim_scores, key=lambda x: x[1], reverse=True)\n",
        "    sim_scores = sim_scores[1:11]\n",
        "    joke_indices = [i[0] for i in sim_scores]\n",
        "    return titles.iloc[joke_indices]\n",
        "\n",
        "# Give a example of it\n",
        "example_joke_text = df['JokeText'].iloc[0]  # Örnek bir şaka metni seçiyoruz\n",
        "print(\"Recommended jokes based on the example joke:\")\n",
        "print(get_recommendations(example_joke_text))\n",
        "\n"
      ],
      "metadata": {
        "colab": {
          "base_uri": "https://localhost:8080/"
        },
        "id": "jV-kuZt7PEEv",
        "outputId": "e237edcd-f533-458c-b775-1e7a22bc5bc5"
      },
      "execution_count": 21,
      "outputs": [
        {
          "output_type": "stream",
          "name": "stdout",
          "text": [
            "Recommended jokes based on the example joke:\n",
            "86    A man, recently completing a routine physical ...\n",
            "67    A man piloting a hot air balloon discovers he ...\n",
            "87    A Czechoslovakian man felt his eyesight was gr...\n",
            "75    There once was a man and a woman that both  go...\n",
            "31    A man arrives at the gates of heaven. St. Pete...\n",
            "38    What is the difference between men and women:\\...\n",
            "55    A man and Cindy Crawford get stranded on a des...\n",
            "80    An Asian man goes into a New York CityBank to ...\n",
            "32    What do you call an American in the finals of ...\n",
            "3     Q. What's the difference between a man and a t...\n",
            "Name: JokeText, dtype: object\n"
          ]
        }
      ]
    },
    {
      "cell_type": "markdown",
      "source": [
        "This method makes recommendations based solely on the current content information without considering past ratings. It does this by examining the similarities between joke texts."
      ],
      "metadata": {
        "id": "DcI5sgNeXAm4"
      }
    },
    {
      "cell_type": "markdown",
      "source": [
        " **Collaborative Filtering**"
      ],
      "metadata": {
        "id": "ZG39tWJkXBkX"
      }
    },
    {
      "cell_type": "markdown",
      "source": [
        "Collaborative filtering, unlike content-based filtering, makes recommendations based on information collected from past user interactions."
      ],
      "metadata": {
        "id": "Sh_OPkZhXdG0"
      }
    },
    {
      "cell_type": "markdown",
      "source": [
        "Prepare the data"
      ],
      "metadata": {
        "id": "itYEh-e2Yv_1"
      }
    },
    {
      "cell_type": "code",
      "source": [
        "# Convert data to long format\n",
        "dfr1_melted = dfr1.melt(id_vars=['JokeId'], var_name='userId', value_name='rating')\n",
        "dfr2_melted = dfr2.melt(id_vars=['JokeId'], var_name='userId', value_name='rating')\n",
        "\n",
        "# userId is converted\n",
        "dfr1_melted['userId'] = dfr1_melted['userId'].str.extract('(\\d+)').astype(int)\n",
        "dfr2_melted['userId'] = dfr2_melted['userId'].str.extract('(\\d+)').astype(int)\n",
        "\n",
        "print(\"Melted and cleaned data for dfr1:\")\n",
        "print(dfr1_melted.head())\n",
        "print(\"Melted and cleaned data for dfr2:\")\n",
        "print(dfr2_melted.head())\n"
      ],
      "metadata": {
        "colab": {
          "base_uri": "https://localhost:8080/"
        },
        "id": "XpJJsNkdYxTL",
        "outputId": "874db2e4-3fe0-4481-a0e1-cc22b28c28fb"
      },
      "execution_count": 31,
      "outputs": [
        {
          "output_type": "stream",
          "name": "stdout",
          "text": [
            "Melted and cleaned data for dfr1:\n",
            "   JokeId  userId  rating\n",
            "0       0       1    5.10\n",
            "1       1       1    4.90\n",
            "2       2       1    1.75\n",
            "3       3       1   -4.17\n",
            "4       4       1    5.15\n",
            "Melted and cleaned data for dfr2:\n",
            "   JokeId  userId    rating\n",
            "0       0   36711  4.023333\n",
            "1       1   36711  4.023333\n",
            "2       2   36711  4.023333\n",
            "3       3   36711  4.023333\n",
            "4       4   36711      5.68\n"
          ]
        }
      ]
    },
    {
      "cell_type": "code",
      "source": [
        "# Replace hyphens with NaN and then convert to numeric\n",
        "dfr1_melted['rating'] = pd.to_numeric(dfr1_melted['rating'].replace('-', None), errors='coerce')\n",
        "dfr2_melted['rating'] = pd.to_numeric(dfr2_melted['rating'].replace('-', None), errors='coerce')\n",
        "\n",
        "# Begin the reader\n",
        "reader = Reader(rating_scale=(-10, 10))\n",
        "\n",
        "# Add data to surprise\n",
        "dataset1 = Dataset.load_from_df(dfr1_melted[['userId', 'JokeId', 'rating']], reader)\n",
        "dataset2 = Dataset.load_from_df(dfr2_melted[['userId', 'JokeId', 'rating']], reader)"
      ],
      "metadata": {
        "id": "hgfu6_4UakuH"
      },
      "execution_count": 33,
      "outputs": []
    },
    {
      "cell_type": "code",
      "source": [
        "# split the data into test and train sets\n",
        "trainset1, testset1 = train_test_split(dataset1, test_size=0.25)\n",
        "trainset2, testset2 = train_test_split(dataset2, test_size=0.25)\n"
      ],
      "metadata": {
        "id": "Fw_XksPaa20s"
      },
      "execution_count": 34,
      "outputs": []
    },
    {
      "cell_type": "code",
      "source": [
        "# SVD is defined\n",
        "svd1 = SVD()\n",
        "svd2 = SVD()\n",
        "\n",
        "# Train the model\n",
        "svd1.fit(trainset1)\n",
        "svd2.fit(trainset2)\n"
      ],
      "metadata": {
        "colab": {
          "base_uri": "https://localhost:8080/"
        },
        "id": "MOjpOv2qa9NT",
        "outputId": "89e2bd1f-2f46-417c-9fc6-4cbd0e7c88a9"
      },
      "execution_count": 35,
      "outputs": [
        {
          "output_type": "execute_result",
          "data": {
            "text/plain": [
              "<surprise.prediction_algorithms.matrix_factorization.SVD at 0x7866f1d703a0>"
            ]
          },
          "metadata": {},
          "execution_count": 35
        }
      ]
    },
    {
      "cell_type": "code",
      "source": [
        "# Test the model and RMSE calculation\n",
        "predictions1 = svd1.test(testset1)\n",
        "predictions2 = svd2.test(testset2)\n",
        "\n",
        "rmse1 = accuracy.rmse(predictions1)\n",
        "rmse2 = accuracy.rmse(predictions2)\n",
        "\n",
        "print(f\"RMSE for User Ratings 1 (dfr1): {rmse1}\")\n",
        "print(f\"RMSE for User Ratings 2 (dfr2): {rmse2}\")\n"
      ],
      "metadata": {
        "colab": {
          "base_uri": "https://localhost:8080/"
        },
        "id": "IcLCz11wciAF",
        "outputId": "01cf0c3f-9c1f-484f-c0a7-84e9a812158b"
      },
      "execution_count": 40,
      "outputs": [
        {
          "output_type": "stream",
          "name": "stdout",
          "text": [
            "RMSE: 4.1770\n",
            "RMSE: nan\n",
            "RMSE for User Ratings 1 (dfr1): 4.176953213590095\n",
            "RMSE for User Ratings 2 (dfr2): nan\n"
          ]
        }
      ]
    },
    {
      "cell_type": "code",
      "source": [
        "# Hyperparameter optimization\n",
        "param_grid = {'n_epochs': [5, 10, 15], 'lr_all': [0.002, 0.005], 'reg_all': [0.4, 0.6]}\n",
        "gs1 = GridSearchCV(SVD, param_grid, measures=['rmse', 'mae'], cv=3)\n",
        "gs2 = GridSearchCV(SVD, param_grid, measures=['rmse', 'mae'], cv=3)\n",
        "\n",
        "gs1.fit(dataset1)\n",
        "gs2.fit(dataset2)\n",
        "\n",
        "# Best RMSE\n",
        "print(f\"Best RMSE for User Ratings 1 (dfr1): {gs1.best_score['rmse']}\")\n",
        "print(f\"Best RMSE for User Ratings 2 (dfr2): {gs2.best_score['rmse']}\")\n",
        "\n",
        "# Best RMSE score and its parameters\n",
        "print(f\"Best parameters for User Ratings 1 (dfr1): {gs1.best_params['rmse']}\")\n",
        "print(f\"Best parameters for User Ratings 2 (dfr2): {gs2.best_params['rmse']}\")\n"
      ],
      "metadata": {
        "colab": {
          "base_uri": "https://localhost:8080/"
        },
        "id": "zOjIqJbJcnj6",
        "outputId": "9bdfaa13-17a5-4c1e-db1a-5af525084081"
      },
      "execution_count": 45,
      "outputs": [
        {
          "output_type": "stream",
          "name": "stdout",
          "text": [
            "Best RMSE for User Ratings 1 (dfr1): 4.470860747169224\n",
            "Best RMSE for User Ratings 2 (dfr2): nan\n",
            "Best parameters for User Ratings 1 (dfr1): {'n_epochs': 15, 'lr_all': 0.002, 'reg_all': 0.4}\n",
            "Best parameters for User Ratings 2 (dfr2): {'n_epochs': 5, 'lr_all': 0.002, 'reg_all': 0.4}\n"
          ]
        }
      ]
    },
    {
      "cell_type": "code",
      "source": [
        "# Cross validation\n",
        "cross_validate(svd1, dataset1, measures=['RMSE', 'MAE'], cv=5, verbose=True)\n",
        "cross_validate(svd2, dataset2, measures=['RMSE', 'MAE'], cv=5, verbose=True)\n"
      ],
      "metadata": {
        "colab": {
          "base_uri": "https://localhost:8080/"
        },
        "id": "hUD0RqEuc4rW",
        "outputId": "aa72707b-2e64-48aa-b93b-3c0c169cffb1"
      },
      "execution_count": 46,
      "outputs": [
        {
          "output_type": "stream",
          "name": "stdout",
          "text": [
            "Evaluating RMSE, MAE of algorithm SVD on 5 split(s).\n",
            "\n",
            "                  Fold 1  Fold 2  Fold 3  Fold 4  Fold 5  Mean    Std     \n",
            "RMSE (testset)    4.1890  4.1869  4.1804  4.1852  4.1851  4.1853  0.0029  \n",
            "MAE (testset)     3.2743  3.2731  3.2706  3.2756  3.2750  3.2737  0.0018  \n",
            "Fit time          19.65   20.37   20.56   21.06   21.24   20.58   0.56    \n",
            "Test time         1.69    1.68    5.08    5.16    1.76    3.08    1.67    \n",
            "Evaluating RMSE, MAE of algorithm SVD on 5 split(s).\n",
            "\n",
            "                  Fold 1  Fold 2  Fold 3  Fold 4  Fold 5  Mean    Std     \n",
            "RMSE (testset)    nan     10.2944 10.3000 10.3009 10.3016 nan     nan     \n",
            "MAE (testset)     nan     9.5496  9.5537  9.5546  9.5565  nan     nan     \n",
            "Fit time          52.25   54.11   54.34   53.92   54.73   53.87   0.86    \n",
            "Test time         11.31   9.00    12.54   8.68    8.54    10.01   1.61    \n"
          ]
        },
        {
          "output_type": "execute_result",
          "data": {
            "text/plain": [
              "{'test_rmse': array([        nan, 10.29438803, 10.30001818, 10.30093478, 10.30164202]),\n",
              " 'test_mae': array([       nan, 9.54962065, 9.55368124, 9.55461636, 9.55654922]),\n",
              " 'fit_time': (52.24648404121399,\n",
              "  54.11423397064209,\n",
              "  54.33638000488281,\n",
              "  53.92184638977051,\n",
              "  54.73293662071228),\n",
              " 'test_time': (11.314186811447144,\n",
              "  8.998346328735352,\n",
              "  12.536261796951294,\n",
              "  8.677438259124756,\n",
              "  8.543843984603882)}"
            ]
          },
          "metadata": {},
          "execution_count": 46
        }
      ]
    },
    {
      "cell_type": "code",
      "source": [
        "# Give suggestions for user\n",
        "def recommend_jokes(model, user_id, num_recommendations=5):\n",
        "    # Get the joke id's\n",
        "    joke_ids = dfr1_melted['JokeId'].unique()\n",
        "\n",
        "    # Find the jokes that users did not rate\n",
        "    user_rated_jokes = dfr1_melted[dfr1_melted['userId'] == user_id]['JokeId'].unique()\n",
        "    not_rated_jokes = set(joke_ids) - set(user_rated_jokes)\n",
        "\n",
        "    # Predictions\n",
        "    predictions = [model.predict(user_id, joke_id) for joke_id in not_rated_jokes]\n",
        "    predictions.sort(key=lambda x: x.est, reverse=True)\n",
        "\n",
        "    # Top recommendations\n",
        "    top_jokes = predictions[:num_recommendations]\n",
        "    return [(pred.iid, pred.est) for pred in top_jokes]\n",
        "\n",
        "# Example usage\n",
        "user_id = 1\n",
        "recommendations1 = recommend_jokes(svd1, user_id)\n",
        "recommendations2 = recommend_jokes(svd2, user_id)\n",
        "\n",
        "print(f\"Top {len(recommendations1)} recommendations for user {user_id} in User Ratings 1 (dfr1):\")\n",
        "for joke_id, rating in recommendations1:\n",
        "    print(f\"Joke ID: {joke_id}, Predicted Rating: {rating}\")\n",
        "\n",
        "print(f\"Top {len(recommendations2)} recommendations for user {user_id} in User Ratings 2 (dfr2):\")\n",
        "for joke_id, rating in recommendations2:\n",
        "    print(f\"Joke ID: {joke_id}, Predicted Rating: {rating}\")\n"
      ],
      "metadata": {
        "colab": {
          "base_uri": "https://localhost:8080/"
        },
        "id": "XdubscAKc8xh",
        "outputId": "734e2eb6-6c99-49ad-a46d-add6d1d76de3"
      },
      "execution_count": 47,
      "outputs": [
        {
          "output_type": "stream",
          "name": "stdout",
          "text": [
            "Top 0 recommendations for user 1 in User Ratings 1 (dfr1):\n",
            "Top 0 recommendations for user 1 in User Ratings 2 (dfr2):\n"
          ]
        }
      ]
    },
    {
      "cell_type": "code",
      "source": [
        "# Predict rating function\n",
        "def predict_rating(model, user_id, joke_id):\n",
        "    pred = model.predict(user_id, joke_id)\n",
        "    return pred.est\n",
        "\n",
        "# Predict ratings for user\n",
        "user_id = 1\n",
        "joke_id = 302\n",
        "\n",
        "predicted_rating1 = predict_rating(svd1, user_id, joke_id)\n",
        "predicted_rating2 = predict_rating(svd2, user_id, joke_id)\n",
        "\n",
        "print(f\"Predicted rating for user {user_id} on joke {joke_id} in User Ratings 1 (dfr1): {predicted_rating1}\")\n",
        "print(f\"Predicted rating for user {user_id} on joke {joke_id} in User Ratings 2 (dfr2): {predicted_rating2}\")\n"
      ],
      "metadata": {
        "colab": {
          "base_uri": "https://localhost:8080/"
        },
        "id": "rf2hElrebDLa",
        "outputId": "eed14a7f-70db-463e-8e35-5d360926fb8d"
      },
      "execution_count": 48,
      "outputs": [
        {
          "output_type": "stream",
          "name": "stdout",
          "text": [
            "Predicted rating for user 1 on joke 302 in User Ratings 1 (dfr1): 0.5592046558911319\n",
            "Predicted rating for user 1 on joke 302 in User Ratings 2 (dfr2): 10\n"
          ]
        }
      ]
    }
  ]
}